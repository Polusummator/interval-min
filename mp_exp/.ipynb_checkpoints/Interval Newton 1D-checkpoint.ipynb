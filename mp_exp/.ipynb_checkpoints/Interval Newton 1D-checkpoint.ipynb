{
 "cells": [
  {
   "cell_type": "code",
   "execution_count": 1,
   "id": "9ea41990",
   "metadata": {},
   "outputs": [],
   "source": [
    "import sympy as sym\n",
    "import interval_arithmetics as ia\n",
    "import ia_math_fun as iam\n",
    "import decimal as dec"
   ]
  },
  {
   "cell_type": "code",
   "execution_count": 2,
   "id": "291c4bbb",
   "metadata": {},
   "outputs": [],
   "source": [
    "x = sym.symbols('x')"
   ]
  },
  {
   "cell_type": "code",
   "execution_count": 3,
   "id": "0ff3703a",
   "metadata": {},
   "outputs": [],
   "source": [
    "f_s = x ** 2 - 2\n",
    "df_s = sym.diff(f_s, x)"
   ]
  },
  {
   "cell_type": "code",
   "execution_count": 4,
   "id": "28c427df",
   "metadata": {},
   "outputs": [
    {
     "name": "stdout",
     "output_type": "stream",
     "text": [
      "x**2 - 2\n",
      "2*x\n"
     ]
    }
   ],
   "source": [
    "print(f_s)\n",
    "print(df_s)"
   ]
  },
  {
   "cell_type": "code",
   "execution_count": 5,
   "id": "4a46c13e",
   "metadata": {},
   "outputs": [],
   "source": [
    "f = sym.lambdify(x, f_s)\n",
    "df = sym.lambdify(x, df_s)"
   ]
  },
  {
   "cell_type": "code",
   "execution_count": 6,
   "id": "50c32439",
   "metadata": {},
   "outputs": [
    {
     "data": {
      "text/plain": [
       "2"
      ]
     },
     "execution_count": 6,
     "metadata": {},
     "output_type": "execute_result"
    }
   ],
   "source": [
    "f(2)"
   ]
  },
  {
   "cell_type": "code",
   "execution_count": 7,
   "id": "0663ef2b",
   "metadata": {},
   "outputs": [
    {
     "name": "stdout",
     "output_type": "stream",
     "text": [
      "[-2, 14]\n"
     ]
    },
    {
     "data": {
      "text/plain": [
       "2"
      ]
     },
     "execution_count": 7,
     "metadata": {},
     "output_type": "execute_result"
    }
   ],
   "source": [
    "old_prec = ia.set_precision(2)\n",
    "iv1 = ia.Interval(dec.Decimal('-3'), dec.Decimal('4'))\n",
    "iv2 = f(iv1)\n",
    "print(iv2)\n",
    "ia.set_precision(old_prec)\n",
    " "
   ]
  },
  {
   "cell_type": "code",
   "execution_count": 8,
   "id": "9f57b166",
   "metadata": {},
   "outputs": [],
   "source": [
    "def newton_step(f, df, ival):\n",
    "    c = ia.mid(ival)\n",
    "    fc = f(ia.convert_to_interval(c))\n",
    "    dfi = df(ival)\n",
    "    frac = fc / dfi\n",
    "    print(\"c = \", c, \"fc = \", fc, \"dfi = \", dfi, \"frac = \", frac)\n",
    "    rlist = []\n",
    "    if not (frac is None):\n",
    "        if type(frac) == ia.Interval:\n",
    "            newt_ival = c - frac\n",
    "            print(newt_ival)\n",
    "            rv = ia.intersect(ival, newt_ival)\n",
    "            if not (rv is None):\n",
    "                rlist.append(rv)\n",
    "        else:\n",
    "            for iv in frac:\n",
    "                newt_ival = c - iv\n",
    "                rv = ia.intersect(ival, newt_ival)\n",
    "                if not (rv is None):\n",
    "                    rlist.append(rv) \n",
    "    return rlist"
   ]
  },
  {
   "cell_type": "code",
   "execution_count": 9,
   "id": "c01194b0",
   "metadata": {},
   "outputs": [
    {
     "name": "stdout",
     "output_type": "stream",
     "text": [
      "c =  -0.5 fc =  [-1.75, -1.75] dfi =  [-6, 4] frac =  [[-Infinity, -0.4375], [0.2916666666666666666666666666, Infinity]]\n"
     ]
    },
    {
     "data": {
      "text/plain": [
       "[[-0.0625, 2], [-3, -0.7916666666666666666666666666]]"
      ]
     },
     "execution_count": 9,
     "metadata": {},
     "output_type": "execute_result"
    }
   ],
   "source": [
    "iv = ia.Interval(dec.Decimal('-3'), dec.Decimal('2'))\n",
    "newton_step(f, df, iv)"
   ]
  },
  {
   "cell_type": "code",
   "execution_count": 10,
   "id": "91c83e52",
   "metadata": {},
   "outputs": [],
   "source": [
    "def newton_method(f, df, ival, eps, max_steps = 100):\n",
    "    work_list = [ival]\n",
    "    new_list = []\n",
    "    steps = 0\n",
    "    tol = max([ia.wid(x) for x in work_list])\n",
    "    while work_list and tol > eps and steps < max_steps:\n",
    "        for iv in work_list:\n",
    "            rlist = newton_step(f, df, iv)\n",
    "            new_list = new_list + rlist\n",
    "        work_list = new_list\n",
    "        new_list = []\n",
    "        tol = max([ia.wid(x) for x in work_list])\n",
    "        steps += 1\n",
    "        print(steps)\n",
    "        print(\"work_list = \", work_list)\n",
    "    return work_list"
   ]
  },
  {
   "cell_type": "code",
   "execution_count": 11,
   "id": "71ceb487",
   "metadata": {},
   "outputs": [
    {
     "name": "stdout",
     "output_type": "stream",
     "text": [
      "c =  1.3125 fc =  [-0.27734375, -0.27734375] dfi =  [1.250, 4] frac =  [-0.221875000, -0.0693359375]\n",
      "[1.3818359375, 1.534375000]\n"
     ]
    },
    {
     "data": {
      "text/plain": [
       "[[1.3818359375, 1.534375000]]"
      ]
     },
     "execution_count": 11,
     "metadata": {},
     "output_type": "execute_result"
    }
   ],
   "source": [
    "iv = ia.Interval(dec.Decimal('0.625'), dec.Decimal('2'))\n",
    "newton_step(f, df, iv)"
   ]
  },
  {
   "cell_type": "code",
   "execution_count": 12,
   "id": "4f213c63",
   "metadata": {},
   "outputs": [
    {
     "name": "stdout",
     "output_type": "stream",
     "text": [
      "c =  -0.5 fc =  [-1.75, -1.75] dfi =  [-6, 4] frac =  [[-Infinity, -0.4375], [0.29166, Infinity]]\n",
      "1\n",
      "work_list =  [[-0.0625, 2], [-3, -0.79166]]\n",
      "c =  0.96875 fc =  [-1.0616, -1.0615] dfi =  [-0.1250, 4] frac =  [[-Infinity, -0.26537], [8.492, Infinity]]\n",
      "c =  -1.8958 fc =  [1.5940, 1.5941] dfi =  [-6, -1.5833] frac =  [-1.0069, -0.26565]\n",
      "[-1.6302, -0.8889]\n",
      "2\n",
      "work_list =  [[1.2341, 2], [-1.6302, -0.8889]]\n",
      "c =  1.6170 fc =  [0.6146, 0.6147] dfi =  [2.4682, 4] frac =  [0.15365, 0.24906]\n",
      "[1.3679, 1.4634]\n",
      "c =  -1.2596 fc =  [-0.4135, -0.4134] dfi =  [-3.2604, -1.7778] frac =  [0.12679, 0.23260]\n",
      "[-1.4922, -1.3863]\n",
      "3\n",
      "work_list =  [[1.3679, 1.4634], [-1.4922, -1.3863]]\n",
      "c =  1.4156 fc =  [0.0039, 0.0040] dfi =  [2.7358, 2.9268] frac =  [0.0013325, 0.0014622]\n",
      "[1.4141, 1.4143]\n",
      "c =  -1.4392 fc =  [0.0712, 0.0713] dfi =  [-2.9844, -2.7726] frac =  [-0.025717, -0.023856]\n",
      "[-1.4154, -1.4134]\n",
      "4\n",
      "work_list =  [[1.4141, 1.4143], [-1.4154, -1.4134]]\n"
     ]
    },
    {
     "data": {
      "text/plain": [
       "[[1.4141, 1.4143], [-1.4154, -1.4134]]"
      ]
     },
     "execution_count": 12,
     "metadata": {},
     "output_type": "execute_result"
    }
   ],
   "source": [
    "ia.set_precision(5)\n",
    "iv = ia.Interval(dec.Decimal('-3'), dec.Decimal('2'))\n",
    "newton_method(f, df, iv, 0.01, max_steps = 10)"
   ]
  },
  {
   "cell_type": "markdown",
   "id": "ec655032",
   "metadata": {},
   "source": [
    "New example"
   ]
  },
  {
   "cell_type": "code",
   "execution_count": 13,
   "id": "465b806e",
   "metadata": {},
   "outputs": [],
   "source": [
    "x = sym.symbols('x')"
   ]
  },
  {
   "cell_type": "code",
   "execution_count": 14,
   "id": "16e31ed3",
   "metadata": {},
   "outputs": [],
   "source": [
    "# f_s = sym.log(x) - x + 3\n",
    "f_s = sym.exp(x) - x - 4\n",
    "df_s = sym.diff(f_s, x)"
   ]
  },
  {
   "cell_type": "code",
   "execution_count": 15,
   "id": "c1b17a5a",
   "metadata": {},
   "outputs": [
    {
     "name": "stdout",
     "output_type": "stream",
     "text": [
      "-x + exp(x) - 4 ,  exp(x) - 1\n"
     ]
    }
   ],
   "source": [
    "print(f_s, \", \",  df_s)"
   ]
  },
  {
   "cell_type": "code",
   "execution_count": 16,
   "id": "412d9cc8",
   "metadata": {},
   "outputs": [],
   "source": [
    "f = sym.lambdify(x, f_s, {\"exp\" : iam.exp, \"log\": iam.log})\n",
    "df = sym.lambdify(x, df_s, {\"exp\" : iam.exp, \"log\": iam.log})"
   ]
  },
  {
   "cell_type": "code",
   "execution_count": 17,
   "id": "ecf774e3",
   "metadata": {},
   "outputs": [
    {
     "name": "stdout",
     "output_type": "stream",
     "text": [
      "[1, 1]  +  [-1, -1]\n",
      "[-0, 0]  +  [0.5, 0.5]\n",
      "[0.5, 0.5]  +  [-0.16667, -0.16666]\n",
      "[0.33333, 0.33334]  +  [0.041666, 0.041667]\n",
      "[0.37499, 0.37501]  +  [-0.0083334, -0.0083333]\n",
      "[0.36665, 0.36668]  +  [0.0013888, 0.0013889]\n",
      "[0.36803, 0.36807]  +  [-0.00019842, -0.00019841]\n",
      "[0.36783, 0.36788]  +  [0.000024801, 0.000024802]\n",
      "[0.36785, 0.36791]  +  [-0.0000027558, -0.0000027557]\n",
      "[0.36784, 0.36791]  +  [2.7557E-7, 2.7558E-7]\n",
      "[1, 1]  +  [-1.0, -1.0]\n",
      "[-0.0, 0.0]  +  [0.500, 0.500]\n",
      "[0.500, 0.500]  +  [-0.16667, -0.16666]\n",
      "[0.33333, 0.33334]  +  [0.041666, 0.041667]\n",
      "[0.37499, 0.37501]  +  [-0.0083334, -0.0083333]\n",
      "[0.36665, 0.36668]  +  [0.0013888, 0.0013889]\n",
      "[0.36803, 0.36807]  +  [-0.00019842, -0.00019841]\n",
      "[0.36783, 0.36788]  +  [0.000024801, 0.000024802]\n",
      "[0.36785, 0.36791]  +  [-0.0000027558, -0.0000027557]\n",
      "[-2, -1]  +  [2.7179, 7.3910]\n"
     ]
    },
    {
     "data": {
      "text/plain": [
       "[-3.2821, 2.3910]"
      ]
     },
     "execution_count": 17,
     "metadata": {},
     "output_type": "execute_result"
    }
   ],
   "source": [
    "iv = ia.Interval(dec.Decimal('1'), dec.Decimal('2'))\n",
    "f(iv)"
   ]
  },
  {
   "cell_type": "code",
   "execution_count": 18,
   "id": "c10c32ec",
   "metadata": {},
   "outputs": [
    {
     "name": "stdout",
     "output_type": "stream",
     "text": [
      "[-Infinity, -Infinity]  +  [Infinity, Infinity]\n"
     ]
    },
    {
     "ename": "InvalidOperation",
     "evalue": "[<class 'decimal.InvalidOperation'>]",
     "output_type": "error",
     "traceback": [
      "\u001b[0;31m---------------------------------------------------------------------------\u001b[0m",
      "\u001b[0;31mInvalidOperation\u001b[0m                          Traceback (most recent call last)",
      "Input \u001b[0;32mIn [18]\u001b[0m, in \u001b[0;36m<cell line: 4>\u001b[0;34m()\u001b[0m\n\u001b[1;32m      2\u001b[0m \u001b[38;5;66;03m# iv = ia.Interval(dec.Decimal('-10'), dec.Decimal('10'))\u001b[39;00m\n\u001b[1;32m      3\u001b[0m iv \u001b[38;5;241m=\u001b[39m ia\u001b[38;5;241m.\u001b[39mInterval(dec\u001b[38;5;241m.\u001b[39mDecimal(\u001b[38;5;124m'\u001b[39m\u001b[38;5;124m-10\u001b[39m\u001b[38;5;124m'\u001b[39m), ia\u001b[38;5;241m.\u001b[39mc_inf)\n\u001b[0;32m----> 4\u001b[0m \u001b[43mnewton_method\u001b[49m\u001b[43m(\u001b[49m\u001b[43mf\u001b[49m\u001b[43m,\u001b[49m\u001b[43m \u001b[49m\u001b[43mdf\u001b[49m\u001b[43m,\u001b[49m\u001b[43m \u001b[49m\u001b[43miv\u001b[49m\u001b[43m,\u001b[49m\u001b[43m \u001b[49m\u001b[38;5;241;43m0.01\u001b[39;49m\u001b[43m,\u001b[49m\u001b[43m \u001b[49m\u001b[43mmax_steps\u001b[49m\u001b[43m \u001b[49m\u001b[38;5;241;43m=\u001b[39;49m\u001b[43m \u001b[49m\u001b[38;5;241;43m10\u001b[39;49m\u001b[43m)\u001b[49m\n",
      "Input \u001b[0;32mIn [10]\u001b[0m, in \u001b[0;36mnewton_method\u001b[0;34m(f, df, ival, eps, max_steps)\u001b[0m\n\u001b[1;32m      6\u001b[0m \u001b[38;5;28;01mwhile\u001b[39;00m work_list \u001b[38;5;129;01mand\u001b[39;00m tol \u001b[38;5;241m>\u001b[39m eps \u001b[38;5;129;01mand\u001b[39;00m steps \u001b[38;5;241m<\u001b[39m max_steps:\n\u001b[1;32m      7\u001b[0m     \u001b[38;5;28;01mfor\u001b[39;00m iv \u001b[38;5;129;01min\u001b[39;00m work_list:\n\u001b[0;32m----> 8\u001b[0m         rlist \u001b[38;5;241m=\u001b[39m \u001b[43mnewton_step\u001b[49m\u001b[43m(\u001b[49m\u001b[43mf\u001b[49m\u001b[43m,\u001b[49m\u001b[43m \u001b[49m\u001b[43mdf\u001b[49m\u001b[43m,\u001b[49m\u001b[43m \u001b[49m\u001b[43miv\u001b[49m\u001b[43m)\u001b[49m\n\u001b[1;32m      9\u001b[0m         new_list \u001b[38;5;241m=\u001b[39m new_list \u001b[38;5;241m+\u001b[39m rlist\n\u001b[1;32m     10\u001b[0m     work_list \u001b[38;5;241m=\u001b[39m new_list\n",
      "Input \u001b[0;32mIn [8]\u001b[0m, in \u001b[0;36mnewton_step\u001b[0;34m(f, df, ival)\u001b[0m\n\u001b[1;32m      1\u001b[0m \u001b[38;5;28;01mdef\u001b[39;00m \u001b[38;5;21mnewton_step\u001b[39m(f, df, ival):\n\u001b[1;32m      2\u001b[0m     c \u001b[38;5;241m=\u001b[39m ia\u001b[38;5;241m.\u001b[39mmid(ival)\n\u001b[0;32m----> 3\u001b[0m     fc \u001b[38;5;241m=\u001b[39m \u001b[43mf\u001b[49m\u001b[43m(\u001b[49m\u001b[43mia\u001b[49m\u001b[38;5;241;43m.\u001b[39;49m\u001b[43mconvert_to_interval\u001b[49m\u001b[43m(\u001b[49m\u001b[43mc\u001b[49m\u001b[43m)\u001b[49m\u001b[43m)\u001b[49m\n\u001b[1;32m      4\u001b[0m     dfi \u001b[38;5;241m=\u001b[39m df(ival)\n\u001b[1;32m      5\u001b[0m     frac \u001b[38;5;241m=\u001b[39m fc \u001b[38;5;241m/\u001b[39m dfi\n",
      "File \u001b[0;32m<lambdifygenerated-3>:2\u001b[0m, in \u001b[0;36m_lambdifygenerated\u001b[0;34m(x)\u001b[0m\n\u001b[1;32m      1\u001b[0m \u001b[38;5;28;01mdef\u001b[39;00m \u001b[38;5;21m_lambdifygenerated\u001b[39m(x):\n\u001b[0;32m----> 2\u001b[0m     \u001b[38;5;28;01mreturn\u001b[39;00m \u001b[38;5;241;43m-\u001b[39;49m\u001b[43mx\u001b[49m\u001b[43m \u001b[49m\u001b[38;5;241;43m+\u001b[39;49m\u001b[43m \u001b[49m\u001b[43mexp\u001b[49m\u001b[43m(\u001b[49m\u001b[43mx\u001b[49m\u001b[43m)\u001b[49m \u001b[38;5;241m-\u001b[39m \u001b[38;5;241m4\u001b[39m\n",
      "File \u001b[0;32m/hdd/posyp/yandexdisk/exp/projects/mpinterval/mp_exp/interval_arithmetics.py:120\u001b[0m, in \u001b[0;36mInterval.__add__\u001b[0;34m(self, other)\u001b[0m\n\u001b[1;32m    118\u001b[0m \u001b[38;5;28mprint\u001b[39m(\u001b[38;5;28mself\u001b[39m, \u001b[38;5;124m\"\u001b[39m\u001b[38;5;124m + \u001b[39m\u001b[38;5;124m\"\u001b[39m, nother)\n\u001b[1;32m    119\u001b[0m _set_rounding_mode_floor()\n\u001b[0;32m--> 120\u001b[0m a \u001b[38;5;241m=\u001b[39m \u001b[38;5;28;43mself\u001b[39;49m\u001b[38;5;241;43m.\u001b[39;49m\u001b[43ma\u001b[49m\u001b[43m \u001b[49m\u001b[38;5;241;43m+\u001b[39;49m\u001b[43m \u001b[49m\u001b[43mnother\u001b[49m\u001b[38;5;241;43m.\u001b[39;49m\u001b[43ma\u001b[49m\n\u001b[1;32m    121\u001b[0m _set_rounding_mode_ceil()\n\u001b[1;32m    122\u001b[0m b \u001b[38;5;241m=\u001b[39m \u001b[38;5;28mself\u001b[39m\u001b[38;5;241m.\u001b[39mb \u001b[38;5;241m+\u001b[39m nother\u001b[38;5;241m.\u001b[39mb        \n",
      "\u001b[0;31mInvalidOperation\u001b[0m: [<class 'decimal.InvalidOperation'>]"
     ]
    }
   ],
   "source": [
    "ia.set_precision(5)\n",
    "iv = ia.Interval(dec.Decimal('-10'), dec.Decimal('10'))\n",
    "# iv = ia.Interval(dec.Decimal('-10'), ia.c_inf)\n",
    "newton_method(f, df, iv, 0.01, max_steps = 10)"
   ]
  },
  {
   "cell_type": "code",
   "execution_count": null,
   "id": "5a2e0c0a",
   "metadata": {},
   "outputs": [],
   "source": [
    "ia.c_inf + 1"
   ]
  },
  {
   "cell_type": "code",
   "execution_count": null,
   "id": "3cacab7c",
   "metadata": {},
   "outputs": [],
   "source": []
  }
 ],
 "metadata": {
  "kernelspec": {
   "display_name": "Python 3 (ipykernel)",
   "language": "python",
   "name": "python3"
  },
  "language_info": {
   "codemirror_mode": {
    "name": "ipython",
    "version": 3
   },
   "file_extension": ".py",
   "mimetype": "text/x-python",
   "name": "python",
   "nbconvert_exporter": "python",
   "pygments_lexer": "ipython3",
   "version": "3.10.4"
  }
 },
 "nbformat": 4,
 "nbformat_minor": 5
}
