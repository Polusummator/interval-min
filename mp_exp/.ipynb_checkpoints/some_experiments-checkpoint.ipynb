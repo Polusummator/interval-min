{
 "cells": [
  {
   "cell_type": "code",
   "execution_count": 61,
   "id": "5466bc1b",
   "metadata": {},
   "outputs": [],
   "source": [
    "import decimal as dec"
   ]
  },
  {
   "cell_type": "code",
   "execution_count": 62,
   "id": "ba9000f8",
   "metadata": {},
   "outputs": [],
   "source": [
    "import interval_arithmetics as ia"
   ]
  },
  {
   "cell_type": "code",
   "execution_count": 70,
   "id": "fff2d524",
   "metadata": {},
   "outputs": [],
   "source": [
    "import ia_math_fun as iam"
   ]
  },
  {
   "cell_type": "code",
   "execution_count": 67,
   "id": "e60947c4",
   "metadata": {},
   "outputs": [],
   "source": [
    "import math"
   ]
  },
  {
   "cell_type": "code",
   "execution_count": 71,
   "id": "d715ee9c",
   "metadata": {},
   "outputs": [],
   "source": [
    "def f(x):\n",
    "    return x**2 + iam.log(x**4)"
   ]
  },
  {
   "cell_type": "code",
   "execution_count": 72,
   "id": "4fb1a817",
   "metadata": {},
   "outputs": [
    {
     "data": {
      "text/plain": [
       "[-Infinity, 1]"
      ]
     },
     "execution_count": 72,
     "metadata": {},
     "output_type": "execute_result"
    }
   ],
   "source": [
    "f(ia.Interval(dec.Decimal(-1), dec.Decimal(1)))"
   ]
  },
  {
   "cell_type": "code",
   "execution_count": 75,
   "id": "65c66a41",
   "metadata": {},
   "outputs": [],
   "source": [
    "def f(x, y):\n",
    "    return (333.75 - x**2) * y**6 + x**2 * (11 * x**2 * y**2 - 121 * y**4 - 2) + 5.5 * y**8 + x / (2 * y)\n",
    "    "
   ]
  },
  {
   "cell_type": "code",
   "execution_count": 123,
   "id": "2a156220",
   "metadata": {},
   "outputs": [],
   "source": [
    "def central_form(f, grad, x):\n",
    "    c = [ia.Interval(dec.Decimal(ia.mid(z)), dec.Decimal(ia.mid(z))) for z in x]\n",
    "    v = f(c)\n",
    "    n = len(c)\n",
    "    for i in range(n-1, -1, -1):\n",
    "        print(i)\n",
    "        c[i] = x[i]\n",
    "        i_t = grad[i](c) * (i_x[i] - c[i])\n",
    "#         i_v = i_v \n",
    "    print(c, f(c), i_t)"
   ]
  },
  {
   "cell_type": "code",
   "execution_count": 124,
   "id": "b771974a",
   "metadata": {},
   "outputs": [],
   "source": [
    "def f(x):\n",
    "    return x[0] ** 2 + x[1] ** 2\n",
    "\n",
    "grad = [lambda x : 2 * x[0], lambda x : 2 * x[1]]"
   ]
  },
  {
   "cell_type": "code",
   "execution_count": 125,
   "id": "ecd4a457",
   "metadata": {},
   "outputs": [
    {
     "name": "stdout",
     "output_type": "stream",
     "text": [
      "1\n"
     ]
    },
    {
     "ename": "TypeError",
     "evalue": "'function' object is not subscriptable",
     "output_type": "error",
     "traceback": [
      "\u001b[0;31m---------------------------------------------------------------------------\u001b[0m",
      "\u001b[0;31mTypeError\u001b[0m                                 Traceback (most recent call last)",
      "Input \u001b[0;32mIn [125]\u001b[0m, in \u001b[0;36m<cell line: 1>\u001b[0;34m()\u001b[0m\n\u001b[0;32m----> 1\u001b[0m \u001b[43mcentral_form\u001b[49m\u001b[43m(\u001b[49m\u001b[43mf\u001b[49m\u001b[43m,\u001b[49m\u001b[43m \u001b[49m\u001b[43mdf\u001b[49m\u001b[43m,\u001b[49m\u001b[43m \u001b[49m\u001b[43m[\u001b[49m\u001b[43mia\u001b[49m\u001b[38;5;241;43m.\u001b[39;49m\u001b[43mInterval\u001b[49m\u001b[43m(\u001b[49m\u001b[43mdec\u001b[49m\u001b[38;5;241;43m.\u001b[39;49m\u001b[43mDecimal\u001b[49m\u001b[43m(\u001b[49m\u001b[38;5;241;43m0\u001b[39;49m\u001b[43m)\u001b[49m\u001b[43m,\u001b[49m\u001b[43m \u001b[49m\u001b[43mdec\u001b[49m\u001b[38;5;241;43m.\u001b[39;49m\u001b[43mDecimal\u001b[49m\u001b[43m(\u001b[49m\u001b[38;5;241;43m1\u001b[39;49m\u001b[43m)\u001b[49m\u001b[43m)\u001b[49m\u001b[43m,\u001b[49m\u001b[43m \u001b[49m\u001b[43mia\u001b[49m\u001b[38;5;241;43m.\u001b[39;49m\u001b[43mInterval\u001b[49m\u001b[43m(\u001b[49m\u001b[43mdec\u001b[49m\u001b[38;5;241;43m.\u001b[39;49m\u001b[43mDecimal\u001b[49m\u001b[43m(\u001b[49m\u001b[38;5;241;43m-\u001b[39;49m\u001b[38;5;241;43m1\u001b[39;49m\u001b[43m)\u001b[49m\u001b[43m,\u001b[49m\u001b[43m \u001b[49m\u001b[43mdec\u001b[49m\u001b[38;5;241;43m.\u001b[39;49m\u001b[43mDecimal\u001b[49m\u001b[43m(\u001b[49m\u001b[38;5;241;43m3\u001b[39;49m\u001b[43m)\u001b[49m\u001b[43m)\u001b[49m\u001b[43m]\u001b[49m\u001b[43m)\u001b[49m\n",
      "Input \u001b[0;32mIn [123]\u001b[0m, in \u001b[0;36mcentral_form\u001b[0;34m(f, grad, x)\u001b[0m\n\u001b[1;32m      6\u001b[0m         \u001b[38;5;28mprint\u001b[39m(i)\n\u001b[1;32m      7\u001b[0m         c[i] \u001b[38;5;241m=\u001b[39m x[i]\n\u001b[0;32m----> 8\u001b[0m         i_t \u001b[38;5;241m=\u001b[39m \u001b[43mgrad\u001b[49m\u001b[43m[\u001b[49m\u001b[43mi\u001b[49m\u001b[43m]\u001b[49m(c) \u001b[38;5;241m*\u001b[39m (i_x[i] \u001b[38;5;241m-\u001b[39m c[i])\n\u001b[1;32m      9\u001b[0m \u001b[38;5;66;03m#         i_v = i_v \u001b[39;00m\n\u001b[1;32m     10\u001b[0m     \u001b[38;5;28mprint\u001b[39m(c, f(c), i_t)\n",
      "\u001b[0;31mTypeError\u001b[0m: 'function' object is not subscriptable"
     ]
    }
   ],
   "source": [
    "central_form(f, df, [ia.Interval(dec.Decimal(0), dec.Decimal(1)), ia.Interval(dec.Decimal(-1), dec.Decimal(3))])"
   ]
  },
  {
   "cell_type": "code",
   "execution_count": 119,
   "id": "8ad7efaf",
   "metadata": {},
   "outputs": [
    {
     "data": {
      "text/plain": [
       "48"
      ]
     },
     "execution_count": 119,
     "metadata": {},
     "output_type": "execute_result"
    }
   ],
   "source": [
    "ia.set_precision(48)"
   ]
  },
  {
   "cell_type": "code",
   "execution_count": 82,
   "id": "1fed647c",
   "metadata": {},
   "outputs": [],
   "source": [
    "i_x = ia.Interval(dec.Decimal(77617), dec.Decimal(77617))\n",
    "i_y = ia.Interval(dec.Decimal(33096), dec.Decimal(33096))\n",
    "i_v = f(i_x, i_y)"
   ]
  },
  {
   "cell_type": "code",
   "execution_count": 83,
   "id": "4ce11891",
   "metadata": {},
   "outputs": [
    {
     "name": "stdout",
     "output_type": "stream",
     "text": [
      "1.1726039400531787 [-0.82739605994682136814116509547981629199903311579, -0.82739605994682136814116509547981629199903311577]\n",
      "2E-47\n"
     ]
    }
   ],
   "source": [
    "v = f(77617, 33096)\n",
    "print(v, i_v)  \n",
    "print(ia.wid(i_v))\n"
   ]
  },
  {
   "cell_type": "code",
   "execution_count": null,
   "id": "fda94215",
   "metadata": {},
   "outputs": [],
   "source": [
    "ia.set_precision(2)"
   ]
  },
  {
   "cell_type": "code",
   "execution_count": 5,
   "id": "4f089384",
   "metadata": {},
   "outputs": [
    {
     "name": "stdout",
     "output_type": "stream",
     "text": [
      "[1.2E+2, 1.5E+2]\n"
     ]
    }
   ],
   "source": [
    "ia.set_precision(2)\n",
    "iv1 = ia.Interval(dec.Decimal('11'), dec.Decimal('12'))\n",
    "iv2 = iv1 ** 2\n",
    "print(iv2)"
   ]
  },
  {
   "cell_type": "code",
   "execution_count": 6,
   "id": "aac61bb0",
   "metadata": {},
   "outputs": [
    {
     "name": "stdout",
     "output_type": "stream",
     "text": [
      "Infinity\n"
     ]
    }
   ],
   "source": [
    "print(ia.c_inf)"
   ]
  },
  {
   "cell_type": "code",
   "execution_count": 7,
   "id": "ba1827a6",
   "metadata": {},
   "outputs": [
    {
     "name": "stdout",
     "output_type": "stream",
     "text": [
      "[0, Infinity]\n"
     ]
    }
   ],
   "source": [
    "iv1 = ia.Interval(dec.Decimal('-1'), dec.Decimal('Infinity'))\n",
    "iv1 = ia.Interval(dec.Decimal('-Infinity'), dec.Decimal('Infinity'))\n",
    "ivr = iam.exp(iv1)\n",
    "print(ivr)"
   ]
  },
  {
   "cell_type": "code",
   "execution_count": 8,
   "id": "f1691656",
   "metadata": {},
   "outputs": [
    {
     "name": "stdout",
     "output_type": "stream",
     "text": [
      "[-Infinity, Infinity]\n"
     ]
    }
   ],
   "source": [
    "iv1 = ia.Interval(dec.Decimal('0'), dec.Decimal('Infinity'))\n",
    "ivr = iam.log(iv1)\n",
    "print (ivr)"
   ]
  },
  {
   "cell_type": "code",
   "execution_count": 9,
   "id": "732056c6",
   "metadata": {},
   "outputs": [
    {
     "data": {
      "text/plain": [
       "2"
      ]
     },
     "execution_count": 9,
     "metadata": {},
     "output_type": "execute_result"
    }
   ],
   "source": [
    "ia.set_precision(2)"
   ]
  },
  {
   "cell_type": "code",
   "execution_count": 10,
   "id": "83bb8a4c",
   "metadata": {},
   "outputs": [
    {
     "name": "stdout",
     "output_type": "stream",
     "text": [
      "4 , tuple:  DecimalTuple(sign=0, digits=(4,), exponent=0)\n",
      "<class 'int'>\n",
      "4\n",
      "8 , tuple:  DecimalTuple(sign=0, digits=(8,), exponent=0)\n",
      "<class 'int'>\n",
      "8\n",
      "16 , tuple:  DecimalTuple(sign=0, digits=(1, 6), exponent=0)\n",
      "<class 'int'>\n",
      "1\n",
      "32 , tuple:  DecimalTuple(sign=0, digits=(3, 2), exponent=0)\n",
      "<class 'int'>\n",
      "3\n",
      "64 , tuple:  DecimalTuple(sign=0, digits=(6, 4), exponent=0)\n",
      "<class 'int'>\n",
      "6\n",
      "1.3E+2 , tuple:  DecimalTuple(sign=0, digits=(1, 3), exponent=1)\n",
      "<class 'int'>\n",
      "1\n",
      "2.6E+2 , tuple:  DecimalTuple(sign=0, digits=(2, 6), exponent=1)\n",
      "<class 'int'>\n",
      "2\n",
      "5.2E+2 , tuple:  DecimalTuple(sign=0, digits=(5, 2), exponent=1)\n",
      "<class 'int'>\n",
      "5\n",
      "1.1E+3 , tuple:  DecimalTuple(sign=0, digits=(1, 1), exponent=2)\n",
      "<class 'int'>\n",
      "1\n",
      "2.2E+3 , tuple:  DecimalTuple(sign=0, digits=(2, 2), exponent=2)\n",
      "<class 'int'>\n",
      "2\n",
      "4.4E+3 , tuple:  DecimalTuple(sign=0, digits=(4, 4), exponent=2)\n",
      "<class 'int'>\n",
      "4\n",
      "8.8E+3 , tuple:  DecimalTuple(sign=0, digits=(8, 8), exponent=2)\n",
      "<class 'int'>\n",
      "8\n",
      "1.8E+4 , tuple:  DecimalTuple(sign=0, digits=(1, 8), exponent=3)\n",
      "<class 'int'>\n",
      "1\n",
      "3.6E+4 , tuple:  DecimalTuple(sign=0, digits=(3, 6), exponent=3)\n",
      "<class 'int'>\n",
      "3\n",
      "7.2E+4 , tuple:  DecimalTuple(sign=0, digits=(7, 2), exponent=3)\n",
      "<class 'int'>\n",
      "7\n",
      "1.5E+5 , tuple:  DecimalTuple(sign=0, digits=(1, 5), exponent=4)\n",
      "<class 'int'>\n",
      "1\n",
      "3.0E+5 , tuple:  DecimalTuple(sign=0, digits=(3, 0), exponent=4)\n",
      "<class 'int'>\n",
      "3\n",
      "6.0E+5 , tuple:  DecimalTuple(sign=0, digits=(6, 0), exponent=4)\n",
      "<class 'int'>\n",
      "6\n",
      "1.2E+6 , tuple:  DecimalTuple(sign=0, digits=(1, 2), exponent=5)\n",
      "<class 'int'>\n",
      "1\n",
      "2.4E+6 , tuple:  DecimalTuple(sign=0, digits=(2, 4), exponent=5)\n",
      "<class 'int'>\n",
      "2\n",
      "4.8E+6 , tuple:  DecimalTuple(sign=0, digits=(4, 8), exponent=5)\n",
      "<class 'int'>\n",
      "4\n",
      "9.6E+6 , tuple:  DecimalTuple(sign=0, digits=(9, 6), exponent=5)\n",
      "<class 'int'>\n",
      "9\n",
      "2.0E+7 , tuple:  DecimalTuple(sign=0, digits=(2, 0), exponent=6)\n",
      "<class 'int'>\n",
      "2\n"
     ]
    }
   ],
   "source": [
    "d = dec.Decimal('2')\n",
    "d2 = dec.Decimal('2')\n",
    "for i in range(1,24):\n",
    "    d = d * d2\n",
    "    print(d, \", tuple: \", d.as_tuple())\n",
    "    print(type(d.as_tuple().exponent))\n",
    "    print(d.as_tuple().digits[0])"
   ]
  },
  {
   "cell_type": "code",
   "execution_count": 11,
   "id": "6093f118",
   "metadata": {},
   "outputs": [
    {
     "data": {
      "text/plain": [
       "2"
      ]
     },
     "execution_count": 11,
     "metadata": {},
     "output_type": "execute_result"
    }
   ],
   "source": [
    "ia.set_precision(3)"
   ]
  },
  {
   "cell_type": "code",
   "execution_count": 12,
   "id": "c02d3498",
   "metadata": {},
   "outputs": [
    {
     "name": "stdout",
     "output_type": "stream",
     "text": [
      "-0.75 -1.33\n",
      "DecimalTuple(sign=1, digits=(7, 5), exponent=-2)\n",
      "DecimalTuple(sign=1, digits=(1, 3, 3), exponent=-2)\n"
     ]
    }
   ],
   "source": [
    "u = dec.Decimal('4')\n",
    "v = dec.Decimal('-3')\n",
    "t = u/v\n",
    "s = v/u\n",
    "print(s, t)\n",
    "print(s.as_tuple())\n",
    "print(t.as_tuple())"
   ]
  },
  {
   "cell_type": "code",
   "execution_count": 13,
   "id": "9bb6c818",
   "metadata": {},
   "outputs": [
    {
     "name": "stdout",
     "output_type": "stream",
     "text": [
      "DecimalTuple(sign=0, digits=(2,), exponent=-1)\n"
     ]
    }
   ],
   "source": [
    "v = dec.Decimal('0.2')\n",
    "print(v.as_tuple())"
   ]
  },
  {
   "cell_type": "code",
   "execution_count": 14,
   "id": "ddfcbafd",
   "metadata": {},
   "outputs": [],
   "source": [
    "u = ia.Interval(dec.Decimal(5), dec.Decimal(7))"
   ]
  },
  {
   "cell_type": "code",
   "execution_count": 15,
   "id": "1ec96c7b",
   "metadata": {},
   "outputs": [],
   "source": [
    "v = iam.factorial(u)"
   ]
  },
  {
   "cell_type": "code",
   "execution_count": 16,
   "id": "4421b2ec",
   "metadata": {},
   "outputs": [
    {
     "data": {
      "text/plain": [
       "[120, 5.04E+3]"
      ]
     },
     "execution_count": 16,
     "metadata": {},
     "output_type": "execute_result"
    }
   ],
   "source": [
    "v"
   ]
  },
  {
   "cell_type": "code",
   "execution_count": 17,
   "id": "3cb56d40",
   "metadata": {},
   "outputs": [
    {
     "data": {
      "text/plain": [
       "3"
      ]
     },
     "execution_count": 17,
     "metadata": {},
     "output_type": "execute_result"
    }
   ],
   "source": [
    "ia.set_precision(15)"
   ]
  },
  {
   "cell_type": "code",
   "execution_count": 18,
   "id": "3fe2cb4d",
   "metadata": {},
   "outputs": [
    {
     "name": "stdout",
     "output_type": "stream",
     "text": [
      "[0.606530659455257, 0.606530659724379] 0.6065306597126334\n"
     ]
    }
   ],
   "source": [
    "print(iam.exp(ia.Interval(dec.Decimal('-0.5'), dec.Decimal('-0.5'))), math.exp(-0.5))"
   ]
  },
  {
   "cell_type": "code",
   "execution_count": 19,
   "id": "2c8f2cfe",
   "metadata": {},
   "outputs": [
    {
     "name": "stdout",
     "output_type": "stream",
     "text": [
      "prec =  2  :  [0.59, 0.63] 0.6065306597126334242631173765403218567371368408203125\n",
      "is in: True\n",
      "prec =  3  :  [0.605, 0.609] 0.6065306597126334242631173765403218567371368408203125\n",
      "is in: True\n",
      "prec =  4  :  [0.6063, 0.6069] 0.6065306597126334242631173765403218567371368408203125\n",
      "is in: True\n",
      "prec =  5  :  [0.60649, 0.60657] 0.6065306597126334242631173765403218567371368408203125\n",
      "is in: True\n",
      "prec =  6  :  [0.606526, 0.606536] 0.6065306597126334242631173765403218567371368408203125\n",
      "is in: True\n",
      "prec =  7  :  [0.6065300, 0.6065312] 0.6065306597126334242631173765403218567371368408203125\n",
      "is in: True\n",
      "prec =  8  :  [0.60653059, 0.60653073] 0.6065306597126334242631173765403218567371368408203125\n",
      "is in: True\n",
      "prec =  9  :  [0.606530651, 0.606530667] 0.6065306597126334242631173765403218567371368408203125\n",
      "is in: True\n"
     ]
    }
   ],
   "source": [
    "v = dec.Decimal(math.exp(-0.5))\n",
    "for i in range(2,10):\n",
    "    ia.set_precision(i)\n",
    "    iam.set_exp_taylor_terms_number(i)\n",
    "    iv = iam.exp(ia.Interval(dec.Decimal('-0.5'), dec.Decimal('-0.5')))\n",
    "    print(\"prec = \", i, \" : \", iv, v)\n",
    "    print(\"is in:\", ia.is_in(v, iv))"
   ]
  },
  {
   "cell_type": "code",
   "execution_count": 20,
   "id": "87a5e59b",
   "metadata": {},
   "outputs": [
    {
     "name": "stdout",
     "output_type": "stream",
     "text": [
      "[0.00673794625, 0.606530667]\n",
      "[ 0.006737946999085467 , 0.6065306597126334 ]\n"
     ]
    }
   ],
   "source": [
    "print(iam.exp(ia.Interval(dec.Decimal('-5'), dec.Decimal('-0.5'))))\n",
    "print('[', math.exp(-5), ',', math.exp(-0.5), ']')"
   ]
  },
  {
   "cell_type": "code",
   "execution_count": 21,
   "id": "6a6d754a",
   "metadata": {},
   "outputs": [
    {
     "name": "stdout",
     "output_type": "stream",
     "text": [
      "[0.00673794625, 0.00673794772]\n"
     ]
    }
   ],
   "source": [
    "print(iam.exp(ia.Interval(dec.Decimal('-5'), dec.Decimal('-5'))))"
   ]
  },
  {
   "cell_type": "code",
   "execution_count": 22,
   "id": "83c7f288",
   "metadata": {},
   "outputs": [
    {
     "name": "stdout",
     "output_type": "stream",
     "text": [
      "[1.64872125, 148.413176]\n",
      "[ 1.6487212707001282 , 148.4131591025766 ]\n"
     ]
    }
   ],
   "source": [
    "print(iam.exp(ia.Interval(dec.Decimal('.5'), dec.Decimal('5'))))\n",
    "print('[', math.exp(.5), ',', math.exp(5), ']')"
   ]
  },
  {
   "cell_type": "code",
   "execution_count": 23,
   "id": "bc9fcffd",
   "metadata": {},
   "outputs": [
    {
     "data": {
      "text/plain": [
       "9"
      ]
     },
     "execution_count": 23,
     "metadata": {},
     "output_type": "execute_result"
    }
   ],
   "source": [
    "ia.set_precision(30)"
   ]
  },
  {
   "cell_type": "code",
   "execution_count": 24,
   "id": "ca19726a",
   "metadata": {},
   "outputs": [
    {
     "name": "stdout",
     "output_type": "stream",
     "text": [
      "[22026.4657948067118298161678460, 22026.4657948068053484773194695]\n"
     ]
    }
   ],
   "source": [
    "print(iam.exp(ia.Interval(dec.Decimal('10'), dec.Decimal('10'))))"
   ]
  },
  {
   "cell_type": "code",
   "execution_count": 25,
   "id": "7223e17b",
   "metadata": {},
   "outputs": [
    {
     "name": "stdout",
     "output_type": "stream",
     "text": [
      "[0.405465107977604617604617604612, 0.405465108108886668886668886672] 0.4054651081081644\n"
     ]
    }
   ],
   "source": [
    "u = ia.Interval(dec.Decimal('1.5'), dec.Decimal('1.5'))\n",
    "print(iam.log(u), math.log(1.5))"
   ]
  },
  {
   "cell_type": "code",
   "execution_count": 26,
   "id": "bd225a20",
   "metadata": {},
   "outputs": [],
   "source": [
    "def mylog(x, k):\n",
    "#     k = 2\n",
    "    inul = ia.Interval(dec.Decimal('0'), dec.Decimal('0'))\n",
    "    ione = ia.Interval(dec.Decimal('1'), dec.Decimal('1'))\n",
    "    itwo = ia.Interval(dec.Decimal('2'), dec.Decimal('2'))\n",
    "    z = (x - ione) / (x + ione)\n",
    "    s = inul\n",
    "    zn = z\n",
    "    zq = pow(z, 2)\n",
    "#     print(z, zq)\n",
    "    for i in range(0, k + 1):\n",
    "        ii = ia.Interval(dec.Decimal(2*i + 1), dec.Decimal(2*i + 1))\n",
    "        s += zn / ii\n",
    "        zn *= zq\n",
    "    t = ia.Interval(dec.Decimal(2*k + 3), dec.Decimal(2*k + 3)) * (ione - zq)\n",
    "    su = s + zn / t \n",
    "    s *= itwo\n",
    "    su *= itwo\n",
    "    iret = ia.Interval(s.a, su.b)\n",
    "    return iret\n",
    "   "
   ]
  },
  {
   "cell_type": "code",
   "execution_count": 27,
   "id": "dee11a8e",
   "metadata": {},
   "outputs": [
    {
     "name": "stdout",
     "output_type": "stream",
     "text": [
      "[0.693147073759785236694244467442, 0.693147182318040418939672102304]\n"
     ]
    }
   ],
   "source": [
    "ival = ia.Interval(dec.Decimal('2'), dec.Decimal('2'))\n",
    "print(mylog(ival, 5))"
   ]
  },
  {
   "cell_type": "code",
   "execution_count": 28,
   "id": "6d13e735",
   "metadata": {},
   "outputs": [
    {
     "name": "stdout",
     "output_type": "stream",
     "text": [
      "prec =  2  :  [0.69300411522633744854, 0.69315108759553204002] [0.69300411522633744854, 0.69315108759553204002] 0.69314718055994528622676398299518041312694549560546875\n",
      "iv => in: True width =  0.00014697236919459148\n",
      "ivn => in: True width =  0.00014697236919459148\n",
      "prec =  7  :  [0.69314717954824131548, 0.69314718057311954178] [0.69314717954824131548, 0.69314718057311954178] 0.69314718055994528622676398299518041312694549560546875\n",
      "iv => in: True width =  1.02487822630E-9\n",
      "ivn => in: True width =  1.02487822630E-9\n",
      "prec =  12  :  [0.69314718055993447394, 0.69314718055994540232] [0.69314718055993447394, 0.69314718055994540232] 0.69314718055994528622676398299518041312694549560546875\n",
      "iv => in: True width =  1.092838E-14\n",
      "ivn => in: True width =  1.092838E-14\n",
      "prec =  17  :  [0.69314718055994530916, 0.69314718055994530966] [0.69314718055994530916, 0.69314718055994530966] 0.69314718055994528622676398299518041312694549560546875\n",
      "iv => in: False width =  5.0E-19\n",
      "ivn => in: False width =  5.0E-19\n",
      "prec =  22  :  [0.69314718055994530928, 0.69314718055994530976] [0.69314718055994530928, 0.69314718055994530976] 0.69314718055994528622676398299518041312694549560546875\n",
      "iv => in: False width =  4.8E-19\n",
      "ivn => in: False width =  4.8E-19\n",
      "prec =  27  :  [0.69314718055994530928, 0.69314718055994530986] [0.69314718055994530928, 0.69314718055994530986] 0.69314718055994528622676398299518041312694549560546875\n",
      "iv => in: False width =  5.8E-19\n",
      "ivn => in: False width =  5.8E-19\n",
      "prec =  32  :  [0.69314718055994530928, 0.69314718055994530996] [0.69314718055994530928, 0.69314718055994530996] 0.69314718055994528622676398299518041312694549560546875\n",
      "iv => in: False width =  6.8E-19\n",
      "ivn => in: False width =  6.8E-19\n",
      "prec =  37  :  [0.69314718055994530928, 0.69314718055994531006] [0.69314718055994530928, 0.69314718055994531006] 0.69314718055994528622676398299518041312694549560546875\n",
      "iv => in: False width =  7.8E-19\n",
      "ivn => in: False width =  7.8E-19\n",
      "prec =  42  :  [0.69314718055994530928, 0.69314718055994531016] [0.69314718055994530928, 0.69314718055994531016] 0.69314718055994528622676398299518041312694549560546875\n",
      "iv => in: False width =  8.8E-19\n",
      "ivn => in: False width =  8.8E-19\n",
      "prec =  47  :  [0.69314718055994530928, 0.69314718055994531026] [0.69314718055994530928, 0.69314718055994531026] 0.69314718055994528622676398299518041312694549560546875\n",
      "iv => in: False width =  9.8E-19\n",
      "ivn => in: False width =  9.8E-19\n",
      "prec =  52  :  [0.69314718055994530928, 0.69314718055994531036] [0.69314718055994530928, 0.69314718055994531036] 0.69314718055994528622676398299518041312694549560546875\n",
      "iv => in: False width =  1.08E-18\n",
      "ivn => in: False width =  1.08E-18\n",
      "prec =  57  :  [0.69314718055994530928, 0.69314718055994531046] [0.69314718055994530928, 0.69314718055994531046] 0.69314718055994528622676398299518041312694549560546875\n",
      "iv => in: False width =  1.18E-18\n",
      "ivn => in: False width =  1.18E-18\n",
      "prec =  62  :  [0.69314718055994530928, 0.69314718055994531056] [0.69314718055994530928, 0.69314718055994531056] 0.69314718055994528622676398299518041312694549560546875\n",
      "iv => in: False width =  1.28E-18\n",
      "ivn => in: False width =  1.28E-18\n",
      "prec =  67  :  [0.69314718055994530928, 0.69314718055994531066] [0.69314718055994530928, 0.69314718055994531066] 0.69314718055994528622676398299518041312694549560546875\n",
      "iv => in: False width =  1.38E-18\n",
      "ivn => in: False width =  1.38E-18\n",
      "prec =  72  :  [0.69314718055994530928, 0.69314718055994531076] [0.69314718055994530928, 0.69314718055994531076] 0.69314718055994528622676398299518041312694549560546875\n",
      "iv => in: False width =  1.48E-18\n",
      "ivn => in: False width =  1.48E-18\n",
      "prec =  77  :  [0.69314718055994530928, 0.69314718055994531086] [0.69314718055994530928, 0.69314718055994531086] 0.69314718055994528622676398299518041312694549560546875\n",
      "iv => in: False width =  1.58E-18\n",
      "ivn => in: False width =  1.58E-18\n",
      "prec =  82  :  [0.69314718055994530928, 0.69314718055994531096] [0.69314718055994530928, 0.69314718055994531096] 0.69314718055994528622676398299518041312694549560546875\n",
      "iv => in: False width =  1.68E-18\n",
      "ivn => in: False width =  1.68E-18\n",
      "prec =  87  :  [0.69314718055994530928, 0.69314718055994531106] [0.69314718055994530928, 0.69314718055994531106] 0.69314718055994528622676398299518041312694549560546875\n",
      "iv => in: False width =  1.78E-18\n",
      "ivn => in: False width =  1.78E-18\n",
      "prec =  92  :  [0.69314718055994530928, 0.69314718055994531116] [0.69314718055994530928, 0.69314718055994531116] 0.69314718055994528622676398299518041312694549560546875\n",
      "iv => in: False width =  1.88E-18\n",
      "ivn => in: False width =  1.88E-18\n",
      "prec =  97  :  [0.69314718055994530928, 0.69314718055994531126] [0.69314718055994530928, 0.69314718055994531126] 0.69314718055994528622676398299518041312694549560546875\n",
      "iv => in: False width =  1.98E-18\n",
      "ivn => in: False width =  1.98E-18\n"
     ]
    }
   ],
   "source": [
    "u = 2\n",
    "v = dec.Decimal(math.log(u))\n",
    "for i in range(2,100,5):\n",
    "    ia.set_precision(20)\n",
    "    iam.set_log_taylor_terms_number(i)\n",
    "    iu = ia.Interval(dec.Decimal(u), dec.Decimal(u))\n",
    "    iv = iam.log(iu)\n",
    "    ivn = mylog(iu, i)\n",
    "    print(\"prec = \", i, \" : \", iv, ivn, v)\n",
    "    print(\"iv => in:\", ia.is_in(v, iv), \"width = \", ia.wid(iv))\n",
    "    print(\"ivn => in:\", ia.is_in(v, ivn), \"width = \", ia.wid(ivn))"
   ]
  },
  {
   "cell_type": "code",
   "execution_count": 29,
   "id": "949f4f76",
   "metadata": {},
   "outputs": [
    {
     "name": "stdout",
     "output_type": "stream",
     "text": [
      "prec =  2  :  [-1.8, 2.4] -1.6094379124341002817999424223671667277812957763671875 2.197224577336219564216435173875652253627777099609375\n",
      "prec =  7  :  [-1.609456, 2.198284] -1.6094379124341002817999424223671667277812957763671875 2.197224577336219564216435173875652253627777099609375\n",
      "prec =  12  :  [-1.60943803023, 2.19727484514] -1.6094379124341002817999424223671667277812957763671875 2.197224577336219564216435173875652253627777099609375\n",
      "prec =  17  :  [-1.6094379135667001, 2.1972276322448842] -1.6094379124341002817999424223671667277812957763671875 2.197224577336219564216435173875652253627777099609375\n",
      "prec =  22  :  [-1.609437912446575719229, 2.197224788468779398796] -1.6094379124341002817999424223671667277812957763671875 2.197224577336219564216435173875652253627777099609375\n",
      "prec =  27  :  [-1.60943791243424985969734279, 2.19722459315405911564669682] -1.6094379124341002817999424223671667277812957763671875 2.197224577336219564216435173875652253627777099609375\n",
      "prec =  32  :  [-1.6094379124341022184057264090412, 2.1972245785888854756175709794704] -1.6094379124341002817999424223671667277812957763671875 2.197224577336219564216435173875652253627777099609375\n",
      "prec =  37  :  [-1.609437912434100344250901310634522554, 2.197224577439528217445197166065730678] -1.6094379124341002817999424223671667277812957763671875 2.197224577336219564216435173875652253627777099609375\n",
      "prec =  42  :  [-1.60943791243410031943379330491698047607019, 2.19722457734500734349870539113031462177662] -1.6094379124341002817999424223671667277812957763671875 2.197224577336219564216435173875652253627777099609375\n",
      "prec =  47  :  [-1.6094379124341003190944365224847437311351858021, 2.1972245773369854177728487445689163843565887684] -1.6094379124341002817999424223671667277812957763671875 2.197224577336219564216435173875652253627777099609375\n",
      "prec =  52  :  [-1.609437912434100319089677231248325491954557781698999, 2.197224577336287490481241314955477226178269584937474] -1.6094379124341002817999424223671667277812957763671875 2.197224577336219564216435173875652253627777099609375\n",
      "prec =  57  :  [-1.60943791243410031908960910846018355010002719955914995898, 2.19722457733622553792772344007694881722888802296427920910] -1.6094379124341002817999424223671667277812957763671875 2.197224577336219564216435173875652253627777099609375\n",
      "prec =  62  :  [-1.6094379124341003190896081168302307830054450683254522198986792, 2.1972245773362199467391313437706505273892132458713591377960430] -1.6094379124341002817999424223671667277812957763671875 2.197224577336219564216435173875652253627777099609375\n",
      "prec =  67  :  [-1.609437912434100319089608102190457248590076274791259743343513402252, 2.197224577336219435068627659987545468521348916659081689002147324560] -1.6094379124341002817999424223671667277812957763671875 2.197224577336219564216435173875652253627777099609375\n",
      "prec =  72  :  [-1.60943791243410031908960810197171555314495277310115778063114079612417569, 2.19722457733621938768580248386965141827009195606666844854515965446118498] -1.6094379124341002817999424223671667277812957763671875 2.197224577336219564216435173875652253627777099609375\n",
      "prec =  77  :  [-1.6094379124341003190896081019684132482558984243276372197513874700695023488610, 2.1972245773362193832529318070161136876023246108399102439182638736177338761426] -1.6094379124341002817999424223671667277812957763671875 2.197224577336219564216435173875652253627777099609375\n",
      "prec =  82  :  [-1.609437912434100319089608101968362943594543420102123866548965780497379570339464941, 2.197224577336219382834514282531436032401921880397259051040446430909534030846624662] -1.6094379124341002817999424223671667277812957763671875 2.197224577336219564216435173875652253627777099609375\n",
      "prec =  87  :  [-1.60943791243410031908960810196836217121891987646341894743541041500327638106648353568807, 2.19722457733621938279471026531728987687474979505054949571011626235958959763120129631448] -1.6094379124341002817999424223671667277812957763671875 2.197224577336219564216435173875652253627777099609375\n",
      "prec =  92  :  [-1.6094379124341003190896081019683621592767265414592002806585115336778286686288834210542215736, 2.1972245773362193827908974288553439041336560205149630823409629703710188000082142192198513170] -1.6094379124341002817999424223671667277812957763671875 2.197224577336219564216435173875652253627777099609375\n",
      "prec =  97  :  [-1.609437912434100319089608101968362159090926820164879150134708358498817548895043546404852497981769, 2.197224577336219382790529936170775420741507933300908292918190839250112602315843403837549964799264] -1.6094379124341002817999424223671667277812957763671875 2.197224577336219564216435173875652253627777099609375\n"
     ]
    }
   ],
   "source": [
    "u1 = 0.2\n",
    "u2 = 9\n",
    "v1 = dec.Decimal(math.log(u1))\n",
    "v2 = dec.Decimal(math.log(u2))\n",
    "for i in range(2,100,5):\n",
    "    ia.set_precision(i)\n",
    "    iam.set_log_taylor_terms_number(i)\n",
    "    iu = ia.Interval(dec.Decimal(u1), dec.Decimal(u2))\n",
    "    iv = iam.log(iu)\n",
    "    print(\"prec = \", i, \" : \", iv, v1, v2)\n",
    "#     print(\"iv => in:\", ia.is_in(v, iv), \"width = \", ia.wid(iv))\n"
   ]
  },
  {
   "cell_type": "code",
   "execution_count": null,
   "id": "efbfb5cd",
   "metadata": {},
   "outputs": [],
   "source": []
  }
 ],
 "metadata": {
  "kernelspec": {
   "display_name": "Python 3 (ipykernel)",
   "language": "python",
   "name": "python3"
  },
  "language_info": {
   "codemirror_mode": {
    "name": "ipython",
    "version": 3
   },
   "file_extension": ".py",
   "mimetype": "text/x-python",
   "name": "python",
   "nbconvert_exporter": "python",
   "pygments_lexer": "ipython3",
   "version": "3.10.4"
  }
 },
 "nbformat": 4,
 "nbformat_minor": 5
}
