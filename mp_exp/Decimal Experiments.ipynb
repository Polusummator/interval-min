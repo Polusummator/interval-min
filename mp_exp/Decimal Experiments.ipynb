{
 "cells": [
  {
   "cell_type": "code",
   "execution_count": 1,
   "id": "b378a0fe",
   "metadata": {},
   "outputs": [],
   "source": [
    "import decimal as dec"
   ]
  },
  {
   "cell_type": "code",
   "execution_count": 2,
   "id": "ad3fee6b",
   "metadata": {},
   "outputs": [],
   "source": [
    "dec.getcontext().prec = 2"
   ]
  },
  {
   "cell_type": "code",
   "execution_count": 5,
   "id": "537f153a",
   "metadata": {},
   "outputs": [
    {
     "name": "stdout",
     "output_type": "stream",
     "text": [
      "-1536.49492 1.6E+3\n",
      "-0.97 -0.96\n"
     ]
    }
   ],
   "source": [
    "x = dec.Decimal('-1536.49492')\n",
    "z = - (x.to_integral(rounding = dec.ROUND_FLOOR))\n",
    "print(x, z)\n",
    "dec.getcontext().rounding = dec.ROUND_FLOOR\n",
    "u = x/z\n",
    "dec.getcontext().rounding = dec.ROUND_CEILING\n",
    "v = x/z\n",
    "print(u, v)\n"
   ]
  },
  {
   "cell_type": "code",
   "execution_count": 3,
   "id": "5bbf30a5",
   "metadata": {},
   "outputs": [
    {
     "name": "stdout",
     "output_type": "stream",
     "text": [
      "2.2E+4\n"
     ]
    }
   ],
   "source": [
    "x = dec.Decimal('10')\n",
    "dec.getcontext().rounding = dec.ROUND_FLOOR\n",
    "vlnf = x.exp()\n",
    "print(vlnf)"
   ]
  },
  {
   "cell_type": "code",
   "execution_count": 4,
   "id": "7bcd2e1d",
   "metadata": {},
   "outputs": [
    {
     "name": "stdout",
     "output_type": "stream",
     "text": [
      "2.2E+4\n"
     ]
    }
   ],
   "source": [
    "x = dec.Decimal('10')\n",
    "dec.getcontext().rounding = dec.ROUND_CEILING\n",
    "vlnc = x.exp()\n",
    "print(vlnc)"
   ]
  },
  {
   "cell_type": "code",
   "execution_count": 5,
   "id": "4552c015",
   "metadata": {},
   "outputs": [],
   "source": [
    "dec.getcontext().prec = 2"
   ]
  },
  {
   "cell_type": "code",
   "execution_count": 6,
   "id": "5e4d5d13",
   "metadata": {},
   "outputs": [
    {
     "name": "stdout",
     "output_type": "stream",
     "text": [
      "1\n"
     ]
    }
   ],
   "source": [
    "u = dec.Decimal('100000')\n",
    "v = dec.Decimal('100000')\n",
    "dec.getcontext().rounding = dec.ROUND_FLOOR\n",
    "z = u / v\n",
    "\n",
    "print(z)\n"
   ]
  },
  {
   "cell_type": "code",
   "execution_count": 13,
   "id": "65d9f03e",
   "metadata": {},
   "outputs": [
    {
     "name": "stdout",
     "output_type": "stream",
     "text": [
      "123.404 1.5E+4\n",
      "DecimalTuple(sign=0, digits=(1, 5), exponent=3)\n",
      "15\n"
     ]
    }
   ],
   "source": [
    "x = dec.Decimal('123.404')\n",
    "y = x * x\n",
    "print(x, y)\n",
    "print(y.as_tuple())\n",
    "z = dec.Decimal((0, y.as_tuple().digits, 0))\n",
    "print(z)"
   ]
  },
  {
   "cell_type": "code",
   "execution_count": null,
   "id": "e2e5dd41",
   "metadata": {},
   "outputs": [],
   "source": []
  }
 ],
 "metadata": {
  "kernelspec": {
   "display_name": "Python 3 (ipykernel)",
   "language": "python",
   "name": "python3"
  },
  "language_info": {
   "codemirror_mode": {
    "name": "ipython",
    "version": 3
   },
   "file_extension": ".py",
   "mimetype": "text/x-python",
   "name": "python",
   "nbconvert_exporter": "python",
   "pygments_lexer": "ipython3",
   "version": "3.9.13"
  }
 },
 "nbformat": 4,
 "nbformat_minor": 5
}
