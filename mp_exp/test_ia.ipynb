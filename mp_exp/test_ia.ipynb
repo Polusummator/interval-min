{
 "cells": [
  {
   "cell_type": "code",
   "execution_count": 1,
   "id": "4ed66380",
   "metadata": {},
   "outputs": [],
   "source": [
    "import test_interval_arithmetics as tia\n",
    "import test_ia_math_fun as tiam"
   ]
  },
  {
   "cell_type": "code",
   "execution_count": 2,
   "id": "243ce549",
   "metadata": {},
   "outputs": [
    {
     "name": "stderr",
     "output_type": "stream",
     "text": [
      "test_neg (test_interval_arithmetics.TestInterval) ... ok\n",
      "test_add (test_interval_arithmetics.TestInterval) ... ok\n",
      "test_add_inf (test_interval_arithmetics.TestInterval) ... ok\n",
      "test_sub (test_interval_arithmetics.TestInterval) ... ok\n",
      "test_sub_inf (test_interval_arithmetics.TestInterval) ... ok\n",
      "test_mul (test_interval_arithmetics.TestInterval) ... ok\n",
      "test_mul_inf (test_interval_arithmetics.TestInterval) ... ok\n",
      "test_pow (test_interval_arithmetics.TestInterval) ... ok\n",
      "test_pow_inf (test_interval_arithmetics.TestInterval) ... ok\n",
      "test_truediv (test_interval_arithmetics.TestInterval) ... ok\n",
      "test_truediv_inf (test_interval_arithmetics.TestInterval) ... ok\n",
      "test_truediv_split (test_interval_arithmetics.TestInterval) ... ok\n",
      "test_reverse (test_interval_arithmetics.TestInterval) ... ok\n",
      "test_convert_interval (test_interval_arithmetics.TestInterval) ... ok\n",
      "\n",
      "----------------------------------------------------------------------\n",
      "Ran 14 tests in 0.008s\n",
      "\n",
      "OK\n"
     ]
    }
   ],
   "source": [
    "tia.run_tests()"
   ]
  },
  {
   "cell_type": "code",
   "execution_count": 3,
   "id": "e2511c20",
   "metadata": {},
   "outputs": [
    {
     "name": "stderr",
     "output_type": "stream",
     "text": [
      "test_factorial (test_ia_math_fun.TestIntervalMathFunctions) ... ok\n",
      "test_exponential (test_ia_math_fun.TestIntervalMathFunctions) ... ok\n",
      "test_exponential_inf (test_ia_math_fun.TestIntervalMathFunctions) ... ok\n",
      "test_logarithm (test_ia_math_fun.TestIntervalMathFunctions) ... ok\n",
      "test_logarithm_inf (test_ia_math_fun.TestIntervalMathFunctions) ... ok\n",
      "\n",
      "----------------------------------------------------------------------\n",
      "Ran 5 tests in 0.007s\n",
      "\n",
      "OK\n"
     ]
    }
   ],
   "source": [
    "tiam.run_tests()"
   ]
  },
  {
   "cell_type": "code",
   "execution_count": null,
   "id": "91d69554",
   "metadata": {},
   "outputs": [],
   "source": []
  }
 ],
 "metadata": {
  "kernelspec": {
   "display_name": "Python 3 (ipykernel)",
   "language": "python",
   "name": "python3"
  },
  "language_info": {
   "codemirror_mode": {
    "name": "ipython",
    "version": 3
   },
   "file_extension": ".py",
   "mimetype": "text/x-python",
   "name": "python",
   "nbconvert_exporter": "python",
   "pygments_lexer": "ipython3",
   "version": "3.10.4"
  }
 },
 "nbformat": 4,
 "nbformat_minor": 5
}
