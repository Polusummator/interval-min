{
 "cells": [
  {
   "cell_type": "code",
   "execution_count": 1,
   "id": "9ea41990",
   "metadata": {},
   "outputs": [],
   "source": [
    "import sympy as sym\n",
    "import interval_arithmetics as ia\n",
    "import ia_math_fun as iam\n",
    "import decimal as dec"
   ]
  },
  {
   "cell_type": "code",
   "execution_count": 2,
   "id": "291c4bbb",
   "metadata": {},
   "outputs": [],
   "source": [
    "x = sym.symbols('x')"
   ]
  },
  {
   "cell_type": "code",
   "execution_count": 3,
   "id": "0ff3703a",
   "metadata": {},
   "outputs": [],
   "source": [
    "f_s = x ** 2 - 2\n",
    "df_s = sym.diff(f_s, x)"
   ]
  },
  {
   "cell_type": "code",
   "execution_count": 4,
   "id": "28c427df",
   "metadata": {},
   "outputs": [
    {
     "name": "stdout",
     "output_type": "stream",
     "text": [
      "x**2 - 2\n",
      "2*x\n"
     ]
    }
   ],
   "source": [
    "print(f_s)\n",
    "print(df_s)"
   ]
  },
  {
   "cell_type": "code",
   "execution_count": 5,
   "id": "4a46c13e",
   "metadata": {},
   "outputs": [],
   "source": [
    "f = sym.lambdify(x, f_s)\n",
    "df = sym.lambdify(x, df_s)"
   ]
  },
  {
   "cell_type": "code",
   "execution_count": 6,
   "id": "50c32439",
   "metadata": {},
   "outputs": [
    {
     "data": {
      "text/plain": [
       "2"
      ]
     },
     "execution_count": 6,
     "metadata": {},
     "output_type": "execute_result"
    }
   ],
   "source": [
    "f(2)"
   ]
  },
  {
   "cell_type": "code",
   "execution_count": 7,
   "id": "0663ef2b",
   "metadata": {},
   "outputs": [
    {
     "name": "stdout",
     "output_type": "stream",
     "text": [
      "[-2, 14]\n"
     ]
    },
    {
     "data": {
      "text/plain": [
       "2"
      ]
     },
     "execution_count": 7,
     "metadata": {},
     "output_type": "execute_result"
    }
   ],
   "source": [
    "old_prec = ia.set_precision(2)\n",
    "iv1 = ia.Interval(dec.Decimal('-3'), dec.Decimal('4'))\n",
    "iv2 = f(iv1)\n",
    "print(iv2)\n",
    "ia.set_precision(old_prec)\n",
    " "
   ]
  },
  {
   "cell_type": "code",
   "execution_count": 8,
   "id": "9f57b166",
   "metadata": {},
   "outputs": [],
   "source": [
    "def newton_step(f, df, ival):\n",
    "    c = ia.mid(ival)\n",
    "    fc = f(ia.convert_to_interval(c))\n",
    "    dfi = df(ival)\n",
    "    frac = fc / dfi\n",
    "    print(\"c = \", c, \"fc = \", fc, \"dfi = \", dfi, \"frac = \", frac)\n",
    "    rlist = []\n",
    "    if not (frac is None):\n",
    "        if type(frac) == ia.Interval:\n",
    "            newt_ival = c - frac\n",
    "            print(newt_ival)\n",
    "            rv = ia.intersect(ival, newt_ival)\n",
    "            if not (rv is None):\n",
    "                rlist.append(rv)\n",
    "        else:\n",
    "            for iv in frac:\n",
    "                newt_ival = c - iv\n",
    "                rv = ia.intersect(ival, newt_ival)\n",
    "                if not (rv is None):\n",
    "                    rlist.append(rv) \n",
    "    return rlist"
   ]
  },
  {
   "cell_type": "code",
   "execution_count": 9,
   "id": "c01194b0",
   "metadata": {},
   "outputs": [
    {
     "name": "stdout",
     "output_type": "stream",
     "text": [
      "c =  -0.5 fc =  [-1.75, -1.75] dfi =  [-6, 4] frac =  [[-Infinity, -0.4375], [0.2916666666666666666666666666, Infinity]]\n"
     ]
    },
    {
     "data": {
      "text/plain": [
       "[[-0.0625, 2], [-3, -0.7916666666666666666666666666]]"
      ]
     },
     "execution_count": 9,
     "metadata": {},
     "output_type": "execute_result"
    }
   ],
   "source": [
    "iv = ia.Interval(dec.Decimal('-3'), dec.Decimal('2'))\n",
    "newton_step(f, df, iv)"
   ]
  },
  {
   "cell_type": "code",
   "execution_count": 10,
   "id": "91c83e52",
   "metadata": {},
   "outputs": [],
   "source": [
    "def newton_method(f, df, ival, eps, max_steps = 100):\n",
    "    work_list = [ival]\n",
    "    new_list = []\n",
    "    steps = 0\n",
    "    tol = max([ia.wid(x) for x in work_list])\n",
    "    while work_list and tol > eps and steps < max_steps:\n",
    "        for iv in work_list:\n",
    "            rlist = newton_step(f, df, iv)\n",
    "            new_list = new_list + rlist\n",
    "        work_list = new_list\n",
    "        new_list = []\n",
    "        tol = max([ia.wid(x) for x in work_list])\n",
    "        steps += 1\n",
    "        print(steps)\n",
    "        print(\"work_list = \", work_list)\n",
    "    return work_list"
   ]
  },
  {
   "cell_type": "code",
   "execution_count": 11,
   "id": "71ceb487",
   "metadata": {},
   "outputs": [
    {
     "name": "stdout",
     "output_type": "stream",
     "text": [
      "c =  1.3125 fc =  [-0.27734375, -0.27734375] dfi =  [1.250, 4] frac =  [-0.221875000, -0.0693359375]\n",
      "[1.3818359375, 1.534375000]\n"
     ]
    },
    {
     "data": {
      "text/plain": [
       "[[1.3818359375, 1.534375000]]"
      ]
     },
     "execution_count": 11,
     "metadata": {},
     "output_type": "execute_result"
    }
   ],
   "source": [
    "iv = ia.Interval(dec.Decimal('0.625'), dec.Decimal('2'))\n",
    "newton_step(f, df, iv)"
   ]
  },
  {
   "cell_type": "code",
   "execution_count": 12,
   "id": "4f213c63",
   "metadata": {},
   "outputs": [
    {
     "name": "stdout",
     "output_type": "stream",
     "text": [
      "c =  -0.5 fc =  [-1.75, -1.75] dfi =  [-6, 4] frac =  [[-Infinity, -0.4375], [0.29166, Infinity]]\n",
      "1\n",
      "work_list =  [[-0.0625, 2], [-3, -0.79166]]\n",
      "c =  0.96875 fc =  [-1.0616, -1.0615] dfi =  [-0.1250, 4] frac =  [[-Infinity, -0.26537], [8.492, Infinity]]\n",
      "c =  -1.8958 fc =  [1.5940, 1.5941] dfi =  [-6, -1.5833] frac =  [-1.0069, -0.26565]\n",
      "[-1.6302, -0.8889]\n",
      "2\n",
      "work_list =  [[1.2341, 2], [-1.6302, -0.8889]]\n",
      "c =  1.6170 fc =  [0.6146, 0.6147] dfi =  [2.4682, 4] frac =  [0.15365, 0.24906]\n",
      "[1.3679, 1.4634]\n",
      "c =  -1.2596 fc =  [-0.4135, -0.4134] dfi =  [-3.2604, -1.7778] frac =  [0.12679, 0.23260]\n",
      "[-1.4922, -1.3863]\n",
      "3\n",
      "work_list =  [[1.3679, 1.4634], [-1.4922, -1.3863]]\n",
      "c =  1.4156 fc =  [0.0039, 0.0040] dfi =  [2.7358, 2.9268] frac =  [0.0013325, 0.0014622]\n",
      "[1.4141, 1.4143]\n",
      "c =  -1.4392 fc =  [0.0712, 0.0713] dfi =  [-2.9844, -2.7726] frac =  [-0.025717, -0.023856]\n",
      "[-1.4154, -1.4134]\n",
      "4\n",
      "work_list =  [[1.4141, 1.4143], [-1.4154, -1.4134]]\n"
     ]
    },
    {
     "data": {
      "text/plain": [
       "[[1.4141, 1.4143], [-1.4154, -1.4134]]"
      ]
     },
     "execution_count": 12,
     "metadata": {},
     "output_type": "execute_result"
    }
   ],
   "source": [
    "ia.set_precision(5)\n",
    "iv = ia.Interval(dec.Decimal('-3'), dec.Decimal('2'))\n",
    "newton_method(f, df, iv, 0.01, max_steps = 10)"
   ]
  },
  {
   "cell_type": "markdown",
   "id": "3dc9cd98",
   "metadata": {},
   "source": [
    "New example"
   ]
  },
  {
   "cell_type": "code",
   "execution_count": 13,
   "id": "4dedb65b",
   "metadata": {},
   "outputs": [],
   "source": [
    "x = sym.symbols('x')"
   ]
  },
  {
   "cell_type": "code",
   "execution_count": 14,
   "id": "1c1530ba",
   "metadata": {},
   "outputs": [],
   "source": [
    "# f_s = sym.log(x) - x + 3\n",
    "f_s = sym.exp(x) - x - 4\n",
    "df_s = sym.diff(f_s, x)"
   ]
  },
  {
   "cell_type": "code",
   "execution_count": 15,
   "id": "7043aad4",
   "metadata": {},
   "outputs": [
    {
     "name": "stdout",
     "output_type": "stream",
     "text": [
      "-x + exp(x) - 4 ,  exp(x) - 1\n"
     ]
    }
   ],
   "source": [
    "print(f_s, \", \",  df_s)"
   ]
  },
  {
   "cell_type": "code",
   "execution_count": 16,
   "id": "1410f3c4",
   "metadata": {},
   "outputs": [],
   "source": [
    "f = sym.lambdify(x, f_s, {\"exp\" : iam.exp, \"log\": iam.log})\n",
    "df = sym.lambdify(x, df_s, {\"exp\" : iam.exp, \"log\": iam.log})"
   ]
  },
  {
   "cell_type": "code",
   "execution_count": 17,
   "id": "a238f966",
   "metadata": {},
   "outputs": [
    {
     "data": {
      "text/plain": [
       "[-3.2821, 2.3910]"
      ]
     },
     "execution_count": 17,
     "metadata": {},
     "output_type": "execute_result"
    }
   ],
   "source": [
    "iv = ia.Interval(dec.Decimal('1'), dec.Decimal('2'))\n",
    "f(iv)"
   ]
  },
  {
   "cell_type": "code",
   "execution_count": 18,
   "id": "b6aa445e",
   "metadata": {},
   "outputs": [
    {
     "name": "stdout",
     "output_type": "stream",
     "text": [
      "c =  0.0 fc =  [-3.0, -3.0] dfi =  [-0.99996, 22050] frac =  [[-Infinity, -0.00013605], [3.0001, Infinity]]\n",
      "1\n",
      "work_list =  [[0.00013605, 10], [-10, -3.0001]]\n",
      "c =  5.0000 fc =  [139.33, 139.50] dfi =  [-0.0000, 22050] frac =  [0.0063188, Infinity]\n",
      "[-Infinity, 4.9937]\n",
      "c =  -6.5000 fc =  [2.5015, 2.5016] dfi =  [-0.99996, -0.95019] frac =  [-2.6330, -2.5015]\n",
      "[-3.9985, -3.8670]\n",
      "2\n",
      "work_list =  [[0.00013605, 4.9937], [-3.9985, -3.8670]]\n",
      "c =  2.4969 fc =  [5.6401, 5.6551] dfi =  [-0.0000, 146.59] frac =  [0.038475, Infinity]\n",
      "[-Infinity, 2.4585]\n",
      "c =  -3.9328 fc =  [-0.0477, -0.0475] dfi =  [-0.98167, -0.97906] frac =  [0.048383, 0.048721]\n",
      "[-3.9816, -3.9811]\n",
      "3\n",
      "work_list =  [[0.00013605, 2.4585], [-3.9816, -3.9811]]\n",
      "c =  1.2293 fc =  [-1.8111, -1.8097] dfi =  [-0.0000, 10.694] frac =  [-Infinity, -0.16922]\n",
      "[1.3985, Infinity]\n",
      "c =  -3.9814 fc =  [-0.0000, 0.0001] dfi =  [-0.98136, -0.98131] frac =  [-0.00010191, 0]\n",
      "[-3.9814, -3.9812]\n",
      "4\n",
      "work_list =  [[1.3985, 2.4585], [-3.9814, -3.9812]]\n",
      "c =  1.9285 fc =  [0.9486, 0.9529] dfi =  [3.0480, 10.694] frac =  [0.088703, 0.31264]\n",
      "[1.6158, 1.8398]\n",
      "c =  -3.9813 fc =  [-0.0001, 0.0000] dfi =  [-0.98135, -0.98132] frac =  [0, 0.00010191]\n",
      "[-3.9815, -3.9813]\n",
      "5\n",
      "work_list =  [[1.6158, 1.8398], [-3.9814, -3.9813]]\n",
      "c =  1.7278 fc =  [-0.1010, -0.0978] dfi =  [4.0304, 5.2969] frac =  [-0.025061, -0.018462]\n",
      "[1.7462, 1.7529]\n",
      "c =  -3.9814 fc =  [-0.0000, 0.0001] dfi =  [-0.98135, -0.98132] frac =  [-0.00010191, 0]\n",
      "[-3.9814, -3.9812]\n",
      "6\n",
      "work_list =  [[1.7462, 1.7529], [-3.9814, -3.9813]]\n"
     ]
    },
    {
     "data": {
      "text/plain": [
       "[[1.7462, 1.7529], [-3.9814, -3.9813]]"
      ]
     },
     "execution_count": 18,
     "metadata": {},
     "output_type": "execute_result"
    }
   ],
   "source": [
    "ia.set_precision(5)\n",
    "iv = ia.Interval(dec.Decimal('-10'), dec.Decimal('10'))\n",
    "# iv = ia.Interval(dec.Decimal('-10'), ia.c_inf)\n",
    "newton_method(f, df, iv, 0.01, max_steps = 10)"
   ]
  },
  {
   "cell_type": "code",
   "execution_count": null,
   "id": "923f9694",
   "metadata": {},
   "outputs": [],
   "source": []
  }
 ],
 "metadata": {
  "kernelspec": {
   "display_name": "Python 3 (ipykernel)",
   "language": "python",
   "name": "python3"
  },
  "language_info": {
   "codemirror_mode": {
    "name": "ipython",
    "version": 3
   },
   "file_extension": ".py",
   "mimetype": "text/x-python",
   "name": "python",
   "nbconvert_exporter": "python",
   "pygments_lexer": "ipython3",
   "version": "3.9.13"
  }
 },
 "nbformat": 4,
 "nbformat_minor": 5
}
